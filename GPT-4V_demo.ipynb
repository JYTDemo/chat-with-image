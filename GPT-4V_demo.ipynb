{
 "cells": [
  {
   "cell_type": "code",
   "execution_count": 12,
   "id": "82381645-6923-426f-9f89-ef01e06a198c",
   "metadata": {
    "execution": {
     "iopub.execute_input": "2024-05-19T05:45:18.055991Z",
     "iopub.status.busy": "2024-05-19T05:45:18.051645Z",
     "iopub.status.idle": "2024-05-19T05:45:18.093085Z",
     "shell.execute_reply": "2024-05-19T05:45:18.091079Z",
     "shell.execute_reply.started": "2024-05-19T05:45:18.055991Z"
    }
   },
   "outputs": [],
   "source": [
    "import fitz\n",
    "import os\n",
    "import base64\n",
    "import requests\n",
    "import os\n",
    "from openai import AzureOpenAI"
   ]
  },
  {
   "cell_type": "code",
   "execution_count": 2,
   "id": "8c259048-af2a-4c41-a905-ea5700191543",
   "metadata": {
    "execution": {
     "iopub.execute_input": "2024-05-16T14:23:07.306706Z",
     "iopub.status.busy": "2024-05-16T14:23:07.306068Z",
     "iopub.status.idle": "2024-05-16T14:23:07.329888Z",
     "shell.execute_reply": "2024-05-16T14:23:07.328886Z",
     "shell.execute_reply.started": "2024-05-16T14:23:07.306706Z"
    }
   },
   "outputs": [],
   "source": [
    "%load_ext dotenv\n",
    "%dotenv"
   ]
  },
  {
   "cell_type": "code",
   "execution_count": 3,
   "id": "297f70da-0dcc-492a-a90f-bd93722fef97",
   "metadata": {
    "execution": {
     "iopub.execute_input": "2024-05-16T14:23:07.959485Z",
     "iopub.status.busy": "2024-05-16T14:23:07.958654Z",
     "iopub.status.idle": "2024-05-16T14:23:08.248166Z",
     "shell.execute_reply": "2024-05-16T14:23:08.248166Z",
     "shell.execute_reply.started": "2024-05-16T14:23:07.959485Z"
    }
   },
   "outputs": [],
   "source": [
    "client = AzureOpenAI(\n",
    "  azure_endpoint = os.getenv(\"OPENAI_API_BASE\"), \n",
    "  api_key=os.getenv(\"OPENAI_API_KEY\"),  \n",
    "  api_version=\"2024-02-01\"\n",
    ")"
   ]
  },
  {
   "cell_type": "code",
   "execution_count": 4,
   "id": "509b2b5e-657f-47bb-afb8-c4488d11554c",
   "metadata": {
    "execution": {
     "iopub.execute_input": "2024-05-16T14:23:08.762321Z",
     "iopub.status.busy": "2024-05-16T14:23:08.762321Z",
     "iopub.status.idle": "2024-05-16T14:23:08.767311Z",
     "shell.execute_reply": "2024-05-16T14:23:08.766718Z",
     "shell.execute_reply.started": "2024-05-16T14:23:08.762321Z"
    }
   },
   "outputs": [],
   "source": [
    "# Function to encode the image\n",
    "def encode_image(image_path):\n",
    "  with open(image_path, \"rb\") as image_file:\n",
    "    return base64.b64encode(image_file.read()).decode('utf-8')"
   ]
  },
  {
   "cell_type": "code",
   "execution_count": 22,
   "id": "01db7e60-0e5f-42c0-9fb8-12399a82be23",
   "metadata": {
    "execution": {
     "iopub.execute_input": "2024-05-19T06:38:41.951410Z",
     "iopub.status.busy": "2024-05-19T06:38:41.951410Z",
     "iopub.status.idle": "2024-05-19T06:38:41.967392Z",
     "shell.execute_reply": "2024-05-19T06:38:41.966379Z",
     "shell.execute_reply.started": "2024-05-19T06:38:41.951410Z"
    }
   },
   "outputs": [],
   "source": [
    "# Path to your image\n",
    "image_path = \"./data/2022-financial-statements.pdf_page_17.png\"\n",
    "#\"./data/2022-financial-statements.pdf_page_17.png\"\n",
    "# Getting the base64 string\n",
    "base64_image = encode_image(image_path)"
   ]
  },
  {
   "cell_type": "code",
   "execution_count": 25,
   "id": "095bfe54-c7fc-42bb-a86e-7ce657f0536c",
   "metadata": {
    "execution": {
     "iopub.execute_input": "2024-05-19T06:40:59.973814Z",
     "iopub.status.busy": "2024-05-19T06:40:59.972815Z",
     "iopub.status.idle": "2024-05-19T06:41:15.868865Z",
     "shell.execute_reply": "2024-05-19T06:41:15.868460Z",
     "shell.execute_reply.started": "2024-05-19T06:40:59.973814Z"
    }
   },
   "outputs": [],
   "source": [
    "prompt = \"What is the latest value of SDR in the document.\"\n",
    "#\"what is the population in the year 2011\"\n",
    "#\"\"\"What are the different SDR basket currenct weight and the amount, give me in JSON format.\"\"\"\n",
    "#\"\"\"What is the latest value of SDR in the document.\"\"\"\n",
    "response = client.chat.completions.create(\n",
    "    model=os.getenv('DEPLOYEMENT_NAME'),\n",
    "    messages=[\n",
    "        { \"role\": \"system\", \"content\": \"You are a helpful assistant.\" },\n",
    "        { \"role\": \"user\", \"content\": [  \n",
    "            { \n",
    "                \"type\": \"text\", \n",
    "                \"text\": prompt \n",
    "            },\n",
    "            { \n",
    "                \"type\": \"image_url\",\n",
    "                \"image_url\": {\n",
    "                    \"url\": f\"data:image/jpeg;base64,{base64_image}\"\n",
    "                }\n",
    "            }\n",
    "        ] } \n",
    "    ],\n",
    "    max_tokens=2000 \n",
    ")"
   ]
  },
  {
   "cell_type": "code",
   "execution_count": 26,
   "id": "f1c20c43-0804-4e5b-82be-dd8f692dae15",
   "metadata": {
    "execution": {
     "iopub.execute_input": "2024-05-19T06:41:18.836831Z",
     "iopub.status.busy": "2024-05-19T06:41:18.836831Z",
     "iopub.status.idle": "2024-05-19T06:41:18.842188Z",
     "shell.execute_reply": "2024-05-19T06:41:18.842188Z",
     "shell.execute_reply.started": "2024-05-19T06:41:18.836831Z"
    }
   },
   "outputs": [
    {
     "name": "stdout",
     "output_type": "stream",
     "text": [
      "The document you've provided is showing the components that make up the Special Drawing Rights (SDR) basket as well as their respective weights as of April 30, 2022, along with the amount of each currency per SDR. The table provided shows the weights of the different currencies, but it does not give a clear SDR valuation that can be identified as the \"latest value.\" The SDRs are valued daily by the International Monetary Fund using the basket of currencies listed.\n",
      "\n",
      "However, on the bottom left side of the provided page, it states that at April 30, 2022, 1 SDR was equal to US$1.34430 (the figure for US$1.43599 at April 30, 2021, is provided for comparison purposes). This is the most recent SDR to USD conversion rate provided within the document shown.\n"
     ]
    }
   ],
   "source": [
    "response_text=dict(response)\n",
    "response_text=dict(dict(response_text['choices'][0])['message'])['content']\n",
    "print(response_text)"
   ]
  },
  {
   "cell_type": "code",
   "execution_count": 11,
   "id": "101509c8-5cf6-4fdc-9091-6b2206273822",
   "metadata": {
    "collapsed": true,
    "execution": {
     "iopub.execute_input": "2024-05-16T14:27:24.056613Z",
     "iopub.status.busy": "2024-05-16T14:27:24.056613Z",
     "iopub.status.idle": "2024-05-16T14:27:24.062785Z",
     "shell.execute_reply": "2024-05-16T14:27:24.061778Z",
     "shell.execute_reply.started": "2024-05-16T14:27:24.056613Z"
    },
    "jupyter": {
     "outputs_hidden": true
    }
   },
   "outputs": [
    {
     "name": "stdout",
     "output_type": "stream",
     "text": [
      "Based on the provided document, here's the JSON representation of the SDR (Special Drawing Rights) basket currencies, their weight in percent, and the corresponding amount as of a certain date in the document:\n",
      "\n",
      "```json\n",
      "{\n",
      "  \"SDR_basket_currencies\": [\n",
      "    {\n",
      "      \"currency\": \"Chinese renminbi\",\n",
      "      \"weight_percent\": 12.28,\n",
      "      \"amount\": 1.0174\n",
      "    },\n",
      "    {\n",
      "      \"currency\": \"Euro\",\n",
      "      \"weight_percent\": 29.31,\n",
      "      \"amount\": 0.38671\n",
      "    },\n",
      "    {\n",
      "      \"currency\": \"Japanese yen\",\n",
      "      \"weight_percent\": 7.59,\n",
      "      \"amount\": 11.900\n",
      "    },\n",
      "    {\n",
      "      \"currency\": \"Pound sterling\",\n",
      "      \"weight_percent\": 7.44,\n",
      "      \"amount\": 0.085946\n",
      "    },\n",
      "    {\n",
      "      \"currency\": \"US dollar\",\n",
      "      \"weight_percent\": 43.38,\n",
      "      \"amount\": 0.58252\n",
      "    }\n",
      "  ],\n",
      "  \"effective_date\": \"April 30, 2022\",\n",
      "  \"SDR_value_in_USD\": 1.34430\n",
      "}\n",
      "```\n",
      "\n",
      "Please note that this JSON shows the data as of April 30, 2022, and it mentions the values as presented in the image with the weights and amounts of that particular date. The document also specifies that effective from August 1, 2022, the weight percentages will change, but this JSON does not cover that future adjustment. If you require the future weights in JSON format, additional information from the document would be necessary.\n"
     ]
    }
   ],
   "source": [
    "response_text=dict(response)\n",
    "response_text=dict(dict(response_text['choices'][0])['message'])['content']\n",
    "print(response_text)"
   ]
  },
  {
   "cell_type": "code",
   "execution_count": 19,
   "id": "8c470ec3-b206-4b18-9334-a2f91310a262",
   "metadata": {
    "execution": {
     "iopub.execute_input": "2024-05-19T05:51:01.471943Z",
     "iopub.status.busy": "2024-05-19T05:51:01.471943Z",
     "iopub.status.idle": "2024-05-19T05:51:01.477927Z",
     "shell.execute_reply": "2024-05-19T05:51:01.477927Z",
     "shell.execute_reply.started": "2024-05-19T05:51:01.471943Z"
    }
   },
   "outputs": [
    {
     "name": "stdout",
     "output_type": "stream",
     "text": [
      "The bar chart shows that the population in the year 2011 was approximately 1210.2 million, or 1.210 billion.\n"
     ]
    }
   ],
   "source": [
    "response_text=dict(response)\n",
    "response_text=dict(dict(response_text['choices'][0])['message'])['content']\n",
    "print(response_text)"
   ]
  },
  {
   "cell_type": "code",
   "execution_count": null,
   "id": "08bed5be-40d7-49d1-92fd-8daa1542ce68",
   "metadata": {},
   "outputs": [],
   "source": []
  }
 ],
 "metadata": {
  "kernelspec": {
   "display_name": "Python 3 (ipykernel)",
   "language": "python",
   "name": "python3"
  },
  "language_info": {
   "codemirror_mode": {
    "name": "ipython",
    "version": 3
   },
   "file_extension": ".py",
   "mimetype": "text/x-python",
   "name": "python",
   "nbconvert_exporter": "python",
   "pygments_lexer": "ipython3",
   "version": "3.11.5"
  }
 },
 "nbformat": 4,
 "nbformat_minor": 5
}
